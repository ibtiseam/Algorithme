{
 "cells": [
  {
   "cell_type": "markdown",
   "metadata": {},
   "source": [
    "# <H1><br><center> Travaux à faire </center></H1>\n",
    "* **Réaliser par : Ibtissem BOUZIDI 2DNI1** *"
   ]
  },
  {
   "cell_type": "markdown",
   "metadata": {},
   "source": [
    "### L'importance des algorithmes de tri en Python\n",
    "<p>Le tri est l'un des algorithmes les plus étudiés en informatique. Il existe des dizaines d'implémentations et d'applications de tri différentes que vous pouvez utiliser pour rendre votre code plus efficace</p>"
   ]
  },
  {
   "cell_type": "markdown",
   "metadata": {},
   "source": [
    "<center>---------------------------</center>"
   ]
  },
  {
   "cell_type": "markdown",
   "metadata": {},
   "source": [
    "### Algorithmes de tri \n",
    "<ol>\n",
    "<li>Tri par sélection</li>\n",
    "<li>Tri à bulle</li>\n",
    "<li>Tri par insertion</li>\n",
    "<li>Tri par fusion</li>\n",
    "<li>Tri par rapide</li>\n",
    "</ol>"
   ]
  },
  {
   "cell_type": "markdown",
   "metadata": {},
   "source": [
    "<h3><p style=\"color:red;\">Tri à bulle :</p></h3>\n",
    "<p>L’algorithme de tri à bulles est connu comme l’algorithme de tri le plus simple.\n",
    "Dans l’algorithme de tri à bulle, le tableau est parcouru du premier au dernier élément. Ici, l’élément courant est comparé à l’élément suivant. Si l’élément en cours est supérieur à l’élément suivant, il est échangé. Voici l'algorithme en python:</p>"
   ]
  },
  {
   "cell_type": "code",
   "execution_count": 1,
   "metadata": {},
   "outputs": [],
   "source": [
    "import time\n",
    "import pandas as pd \n",
    "import timeit\n",
    "import numpy as np\n",
    "%matplotlib inline\n",
    "import matplotlib.pyplot as plt\n",
    "from random import *"
   ]
  },
  {
   "cell_type": "code",
   "execution_count": 2,
   "metadata": {},
   "outputs": [],
   "source": [
    "temps_exection_TS=[]\n",
    "N=np.array([20000,25000,30000,35000,40000,45000,50000,55000,60000,65000,70000,75000,80000,85000,90000,95000,100000])"
   ]
  },
  {
   "cell_type": "code",
   "execution_count": 3,
   "metadata": {},
   "outputs": [],
   "source": [
    "def tri_bulle(t):\n",
    "    n = len(t)\n",
    "    for i in range(n):\n",
    "        for j in range(0, n-i-1):\n",
    "            if t[j] > t[j+1] :\n",
    "                t[j], t[j+1] = t[j+1], t[j]\n",
    "\n",
    "    \n",
    "#print(timeit.timeit('tri_selection(t)', globals=globals()))\n",
    "#%timeit tri_selection(t)"
   ]
  },
  {
   "cell_type": "code",
   "execution_count": 4,
   "metadata": {},
   "outputs": [
    {
     "name": "stdout",
     "output_type": "stream",
     "text": [
      "44.631404638290405\n",
      "69.20817613601685\n",
      "102.89594554901123\n",
      "137.83504271507263\n",
      "179.23108887672424\n",
      "231.80794596672058\n",
      "279.0199975967407\n",
      "341.7430102825165\n",
      "409.8644895553589\n",
      "474.4708228111267\n",
      "556.8991906642914\n",
      "628.9166600704193\n",
      "717.8202030658722\n",
      "820.4416129589081\n",
      "928.0091290473938\n",
      "1022.6201498508453\n",
      "1140.5734751224518\n"
     ]
    }
   ],
   "source": [
    "for i in range(len(N)) :\n",
    "    tab=[]\n",
    "    for j in range(0,int(N[i])) :\n",
    "        r=randint(0,100)\n",
    "        tab.append(r)\n",
    "    start = time.time()\n",
    "    tri_bulle(tab)\n",
    "    end = time.time()\n",
    "    print(end - start)\n",
    "    temps_exection_TS=np.append(end - start,temps_exection_TS)"
   ]
  },
  {
   "cell_type": "code",
   "execution_count": 8,
   "metadata": {
    "scrolled": true
   },
   "outputs": [],
   "source": [
    "#start = time.time()\n",
    "#tri_selection(tab)\n",
    "#end = time.time()\n",
    "#print(end - start)"
   ]
  },
  {
   "cell_type": "code",
   "execution_count": 5,
   "metadata": {},
   "outputs": [],
   "source": [
    "#temps_exection_TS=np.append(end - start)\n",
    "#print(temps_exection_TS)"
   ]
  },
  {
   "cell_type": "code",
   "execution_count": 6,
   "metadata": {},
   "outputs": [],
   "source": [
    "#rint(tab_mesure)"
   ]
  },
  {
   "cell_type": "code",
   "execution_count": 21,
   "metadata": {},
   "outputs": [],
   "source": [
    "tab_mesure=np.array([[20000,44.631404638290405],[25000,69.20817613601685] ,[30000,102.89594554901123],[35000,137.83504271507263],\n",
    "                     [40000,179.23108887672424],[45000,231.80794596672058] ,[50000,279.0199975967407] ,\n",
    "                     [55000,341.7430102825165],[60000,409.8644895553589],[65000,474.4708228111267 ],[70000,556.8991906642914],\n",
    "                     [75000,628.9166600704193 ],[80000,717.8202030658722],[85000,820.4416129589081],[90000,928.0091290473938],[95000,1022.6201498508453],[100000,1140.5734751224518]])"
   ]
  },
  {
   "cell_type": "code",
   "execution_count": 22,
   "metadata": {},
   "outputs": [],
   "source": [
    "#tab_mesure = np.array([N, temps_exection_TS])\n",
    "#print(tab_mesure)"
   ]
  },
  {
   "cell_type": "code",
   "execution_count": 23,
   "metadata": {},
   "outputs": [
    {
     "name": "stdout",
     "output_type": "stream",
     "text": [
      "           N  temps_exection_TB\n",
      "0    20000.0          44.631405\n",
      "1    25000.0          69.208176\n",
      "2    30000.0         102.895946\n",
      "3    35000.0         137.835043\n",
      "4    40000.0         179.231089\n",
      "5    45000.0         231.807946\n",
      "6    50000.0         279.019998\n",
      "7    55000.0         341.743010\n",
      "8    60000.0         409.864490\n",
      "9    65000.0         474.470823\n",
      "10   70000.0         556.899191\n",
      "11   75000.0         628.916660\n",
      "12   80000.0         717.820203\n",
      "13   85000.0         820.441613\n",
      "14   90000.0         928.009129\n",
      "15   95000.0        1022.620150\n",
      "16  100000.0        1140.573475\n"
     ]
    }
   ],
   "source": [
    "df = pd.DataFrame(tab_mesure,columns=['N','temps_exection_TB'])\n",
    "print(df)"
   ]
  },
  {
   "cell_type": "code",
   "execution_count": 32,
   "metadata": {},
   "outputs": [
    {
     "name": "stderr",
     "output_type": "stream",
     "text": [
      "C:\\Users\\ASUS\\Anaconda3\\lib\\site-packages\\matplotlib\\cbook\\__init__.py:1402: FutureWarning: Support for multi-dimensional indexing (e.g. `obj[:, None]`) is deprecated and will be removed in a future version.  Convert to a numpy array before indexing instead.\n",
      "  x[:, None]\n",
      "C:\\Users\\ASUS\\Anaconda3\\lib\\site-packages\\matplotlib\\axes\\_base.py:276: FutureWarning: Support for multi-dimensional indexing (e.g. `obj[:, None]`) is deprecated and will be removed in a future version.  Convert to a numpy array before indexing instead.\n",
      "  x = x[:, np.newaxis]\n",
      "C:\\Users\\ASUS\\Anaconda3\\lib\\site-packages\\matplotlib\\axes\\_base.py:278: FutureWarning: Support for multi-dimensional indexing (e.g. `obj[:, None]`) is deprecated and will be removed in a future version.  Convert to a numpy array before indexing instead.\n",
      "  y = y[:, np.newaxis]\n"
     ]
    },
    {
     "data": {
      "text/plain": [
       "Text(0, 0.5, 'Temps (s)')"
      ]
     },
     "execution_count": 32,
     "metadata": {},
     "output_type": "execute_result"
    },
    {
     "data": {
      "image/png": "[encoded data removed]",
      "text/plain": [
       "<Figure size 432x288 with 1 Axes>"
      ]
     },
     "metadata": {
      "needs_background": "light"
     },
     "output_type": "display_data"
    }
   ],
   "source": [
    "plt.plot(df['N'],df['temps_exection_TB'])\n",
    "plt.xlabel('N')\n",
    "plt.ylabel('Temps (s)')"
   ]
  }
 ],
 "metadata": {
  "kernelspec": {
   "display_name": "Python 3",
   "language": "python",
   "name": "python3"
  },
  "language_info": {
   "codemirror_mode": {
    "name": "ipython",
    "version": 3
   },
   "file_extension": ".py",
   "mimetype": "text/x-python",
   "name": "python",
   "nbconvert_exporter": "python",
   "pygments_lexer": "ipython3",
   "version": "3.7.1"
  }
 },
 "nbformat": 4,
 "nbformat_minor": 2
}
