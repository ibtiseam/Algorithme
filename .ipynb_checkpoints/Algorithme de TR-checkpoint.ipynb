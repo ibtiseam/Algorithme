{
 "cells": [
  {
   "cell_type": "markdown",
   "metadata": {},
   "source": [
    "# <H1><br><center> Travaux à faire </center></H1>\n",
    "* **Réaliser par : Ibtissem BOUZIDI 2DNI1** *"
   ]
  },
  {
   "cell_type": "markdown",
   "metadata": {},
   "source": [
    "### L'importance des algorithmes de tri en Python\n",
    "<p>Le tri est l'un des algorithmes les plus étudiés en informatique. Il existe des dizaines d'implémentations et d'applications de tri différentes que vous pouvez utiliser pour rendre votre code plus efficace</p>"
   ]
  },
  {
   "cell_type": "markdown",
   "metadata": {},
   "source": [
    "<center>---------------------------</center>"
   ]
  },
  {
   "cell_type": "markdown",
   "metadata": {},
   "source": [
    "### Algorithmes de tri \n",
    "<ol>\n",
    "<li>Tri par sélection</li>\n",
    "<li>Tri à bulle</li>\n",
    "<li>Tri par insertion</li>\n",
    "<li>Tri par fusion</li>\n",
    "<li>Tri par rapide</li>\n",
    "</ol>"
   ]
  },
  {
   "cell_type": "markdown",
   "metadata": {},
   "source": [
    "<h3><p style=\"color:red;\">Tri par insertion :</p></h3>\n",
    "<p>L’algorithme du tri par insertion n’est utile que pour les petits éléments, car elle nécessite plus de temps pour trier un grand nombre d’éléments. Voici l'algorithme  :</p>"
   ]
  },
  {
   "cell_type": "code",
   "execution_count": 1,
   "metadata": {},
   "outputs": [],
   "source": [
    "import time\n",
    "import pandas as pd \n",
    "import timeit\n",
    "import numpy as np\n",
    "%matplotlib inline\n",
    "import matplotlib.pyplot as plt\n",
    "from random import *"
   ]
  },
  {
   "cell_type": "code",
   "execution_count": 2,
   "metadata": {},
   "outputs": [],
   "source": [
    "temps_exection_TS=[]\n",
    "N=np.array([20000,25000,30000,35000,40000,45000,50000,55000,60000,65000,70000,75000,80000,85000,90000,95000,100000])"
   ]
  },
  {
   "cell_type": "code",
   "execution_count": 3,
   "metadata": {},
   "outputs": [],
   "source": [
    "def tri_insertion(t): \n",
    "    for i in range(1, len(t)): \n",
    "        k = t[i] \n",
    "        j = i-1 \n",
    "        while j >= 0 and k < t[j] : \n",
    "                t[j + 1] = t[j] \n",
    "                j -= 1\n",
    "        t[j + 1] = k \n",
    "\n",
    "    \n",
    "#print(timeit.timeit('tri_selection(t)', globals=globals()))\n",
    "#%timeit tri_selection(t)"
   ]
  },
  {
   "cell_type": "code",
   "execution_count": 5,
   "metadata": {},
   "outputs": [
    {
     "name": "stdout",
     "output_type": "stream",
     "text": [
      "23.698376655578613\n",
      "40.47339677810669\n",
      "53.7576117515564\n",
      "83.39751935005188\n",
      "105.6012909412384\n",
      "132.98796010017395\n",
      "163.32420086860657\n",
      "199.30107998847961\n",
      "238.0925657749176\n",
      "283.6578712463379\n",
      "324.56617164611816\n",
      "369.4241359233856\n",
      "386.227379322052\n",
      "451.7812249660492\n",
      "536.1302649974823\n",
      "637.7233836650848\n",
      "660.4470348358154\n"
     ]
    }
   ],
   "source": [
    "for i in range(len(N)) :\n",
    "    tab=[]\n",
    "    for j in range(0,int(N[i])) :\n",
    "        r=randint(0,100)\n",
    "        tab.append(r)\n",
    "    start = time.time()\n",
    "    tri_insertion(tab)\n",
    "    end = time.time()\n",
    "    print(end - start)\n",
    "    temps_exection_TS=np.append(end - start,temps_exection_TS)"
   ]
  },
  {
   "cell_type": "code",
   "execution_count": 80,
   "metadata": {},
   "outputs": [
    {
     "name": "stdout",
     "output_type": "stream",
     "text": [
      "    temps_exection_TS\n",
      "0           23.698377\n",
      "1           40.473397\n",
      "2           53.757612\n",
      "3           83.397519\n",
      "4          105.601291\n",
      "5          132.987960\n",
      "6          163.324201\n",
      "7          199.301080\n",
      "8          238.092566\n",
      "9          283.657871\n",
      "10         324.566172\n",
      "11         369.424136\n",
      "12         386.227379\n",
      "13         451.781225\n",
      "14         536.130265\n",
      "15         637.723384\n",
      "16         660.447035\n"
     ]
    }
   ],
   "source": [
    "df = pd.DataFrame(temps_exection_TS,columns=['temps_exection_TS'])\n",
    "df['temps_exection_TS'] = df['temps_exection_TS'].sort_values(ascending=True).tolist()\n",
    "print(df)"
   ]
  },
  {
   "cell_type": "code",
   "execution_count": 81,
   "metadata": {},
   "outputs": [],
   "source": [
    "dfn = pd.DataFrame(N,columns=['N'])"
   ]
  },
  {
   "cell_type": "code",
   "execution_count": 82,
   "metadata": {},
   "outputs": [
    {
     "name": "stdout",
     "output_type": "stream",
     "text": [
      "    temps_exection_TS       N\n",
      "0           23.698377   20000\n",
      "1           40.473397   25000\n",
      "2           53.757612   30000\n",
      "3           83.397519   35000\n",
      "4          105.601291   40000\n",
      "5          132.987960   45000\n",
      "6          163.324201   50000\n",
      "7          199.301080   55000\n",
      "8          238.092566   60000\n",
      "9          283.657871   65000\n",
      "10         324.566172   70000\n",
      "11         369.424136   75000\n",
      "12         386.227379   80000\n",
      "13         451.781225   85000\n",
      "14         536.130265   90000\n",
      "15         637.723384   95000\n",
      "16         660.447035  100000\n"
     ]
    }
   ],
   "source": [
    "tab_mesure=pd.concat([df, dfn], axis=1)\n",
    "print(tab_mesure)"
   ]
  },
  {
   "cell_type": "code",
   "execution_count": 84,
   "metadata": {},
   "outputs": [
    {
     "data": {
      "text/plain": [
       "Text(0, 0.5, 'Temps (s)')"
      ]
     },
     "execution_count": 84,
     "metadata": {},
     "output_type": "execute_result"
    },
    {
     "data": {
      "image/png": "[encoded data removed]",
      "text/plain": [
       "<Figure size 432x288 with 1 Axes>"
      ]
     },
     "metadata": {
      "needs_background": "light"
     },
     "output_type": "display_data"
    }
   ],
   "source": [
    "#plt.plot(tab_mesure['N'], tab_mesure['temps_exection_TS'])\n",
    "plt.plot(N, temps_exection_TS)\n",
    "plt.xlabel('N')\n",
    "plt.ylabel('Temps (s)')"
   ]
  },
  {
   "cell_type": "code",
   "execution_count": null,
   "metadata": {},
   "outputs": [],
   "source": [
    "print(tri_insertion(tab))"
   ]
  },
  {
   "cell_type": "markdown",
   "metadata": {},
   "source": [
    "<h3><p style=\"color:blue;\">Conclusion</p></h3>\n",
    "<p> Le tri par sélection/inserction/bulle fonctionne mieux avec un petit nombre d’éléments.  La complexité d’exécution de c'est algorithme dans le pire des cas est o(n^2) donc si il prend beaucoup de temps avec les tableau de grand taille</p>"
   ]
  },
  {
   "cell_type": "markdown",
   "metadata": {},
   "source": [
    "<h3><p style=\"color:red;\">Tri par fusion :</p></h3>\n",
    "<p>Le tri fusion se base sur le principe diviser pour régner.</p>\n",
    "\n",
    "<ul><li>Si le tableau a une seule case, alors il est considéré comme trié.</li>\n",
    "<li>Sinon, on découpe le tableau en deux parties de même taille (à une case près, si le nombre d’éléments du tableau est impair) et on trie chacune des deux parties.</li>\n",
    "    <li>On fusionne les deux parties triées.</li>"
   ]
  },
  {
   "cell_type": "code",
   "execution_count": null,
   "metadata": {},
   "outputs": [],
   "source": [
    "%%time\n",
    "def merge_sort(array):\n",
    "  \n",
    "    #print(\"diviser \",array)\n",
    "    if len(array) < 2:\n",
    "        return array\n",
    "\n",
    "    midpoint = len(array) // 2\n",
    "    \n",
    "    return merge(\n",
    "        left=merge_sort(array[:midpoint]),\n",
    "        right=merge_sort(array[midpoint:]))\n",
    "\n",
    "def merge(left, right):\n",
    "    \n",
    "    if len(left) == 0:\n",
    "        return right\n",
    "\n",
    "    if len(right) == 0:\n",
    "        return left\n",
    "\n",
    "    result = []\n",
    "    index_left = index_right = 0\n",
    "\n",
    "\n",
    "    while len(result) < len(left) + len(right):\n",
    "        \n",
    "        if left[index_left] <= right[index_right]:\n",
    "            result.append(left[index_left])\n",
    "            index_left += 1\n",
    "            #print(\"régner \",result)\n",
    "        else:\n",
    "            result.append(right[index_right])\n",
    "            index_right += 1\n",
    "           #print(\"régner \",result)\n",
    "\n",
    "        if index_right == len(right):\n",
    "            result += left[index_left:]\n",
    "           # print(\"régner \",result)\n",
    "            break\n",
    "\n",
    "        if index_left == len(left):\n",
    "            result += right[index_right:]\n",
    "           # print(\"régner \",result)\n",
    "            break\n",
    "        \n",
    "    return result\n",
    "#t =[10, 200, 15, 1, 2, 9, 5, 80,7,2,8,7,4,3]\n",
    "r=merge_sort(tab)\n",
    "#print(fin)\n",
    "#print(timeit.timeit('merge_sort(t)', globals=globals()))\n",
    "#time.clock()"
   ]
  },
  {
   "cell_type": "markdown",
   "metadata": {},
   "source": [
    "\n",
    "<h3><p style=\"color:blue;\">Pour analyser la complexité du tri par fusion, vous pouvez examiner ses deux étapes séparément: :</p></h3>\n",
    "<ul>\n",
    "<li>merge() : a un temps d'exécution linéaire. Il reçoit deux tableaux dont la longueur combinée est au plus n (la longueur du tableau d'entrée d'origine), et il combine les deux tableaux en regardant chaque élément au plus une fois. Cela conduit à une complexité d'exécution de O (n) .</li>\n",
    "\n",
    "<li>La deuxième étape divise le tableau d'entrée de manière récursive et appelle merge()chaque moitié. Puisque le tableau est divisé par deux jusqu'à ce qu'un seul élément reste, le nombre total d'opérations de réduction de moitié effectuées par cette fonction est log 2 n . Puisqu'il merge()est appelé pour chaque moitié, nous obtenons un temps d'exécution total de O (n log 2 n) .</li>"
   ]
  },
  {
   "cell_type": "markdown",
   "metadata": {},
   "source": [
    "\n",
    "<h3><p style=\"color:red;\">Tri rapide :</p></h3>\n",
    "<p>   Le principe de ce tri est d’ordonner le vecteur v[0..n] en cherchant dans celui-ci une clé pivot autour de laquelle réorganiser ses éléments. Il est souhaitable que le pivot soit aussi proche que possible de la clé relative à l’enregistrement central du vecteur, afin qu’il y ait à peu près autant d’éléments le précédant que le suivant, soit environ la moitié des éléments du tableau.</p>\n",
    "\n",
    "####  Le choix du pivot est déterminant pour l'efficacité de ce tri. Plusieurs options sont possibles :\n",
    "<ul>\n",
    "<li>Choisir le premier élément du tableau</li>\n",
    "<li>Choisir le dernier élément du tableau</li>\n",
    "<li>Choisir un élément au hasard</li>\n",
    "<li>Choisir l'élément au milieu du tableau</li>\n",
    "<li>Trouver le pivot optimal en recherchant la médiane</li>\n",
    "    </ul>"
   ]
  },
  {
   "cell_type": "code",
   "execution_count": null,
   "metadata": {
    "scrolled": true
   },
   "outputs": [],
   "source": [
    "#timeit\n",
    "%%time\n",
    "import sys\n",
    "sys.setrecursionlimit(25000)\n",
    "def partition(arr, low, high):\n",
    "    i = (low-1)        \n",
    "    pivot = arr[high]     \n",
    " \n",
    "    for j in range(low, high):\n",
    "        if arr[j] <= pivot:\n",
    "            i = i+1\n",
    "            arr[i], arr[j] = arr[j], arr[i]\n",
    " \n",
    "    arr[i+1], arr[high] = arr[high], arr[i+1]\n",
    "    return (i+1)\n",
    "\n",
    "def quickSort(arr, low,high):\n",
    "    if len(arr) == 1:\n",
    "        return arr\n",
    "    if low < high:\n",
    " \n",
    "        pi = partition(arr, low, high)\n",
    "\n",
    "        quickSort(arr, low, pi-1)\n",
    "        quickSort(arr, pi+1, high)\n",
    " \n",
    " \n",
    "#########PP##########\n",
    "#t =[10, 200, 15, 1, 2, 9, 5, 80]\n",
    "#n = len(list)\n",
    "#quickSort(list, 0, n-1)\n",
    "#print (\"Le tableau trié est:\")\n",
    "#for i in range(n):\n",
    "#    print(\"%d\" % list[i]),\n",
    "#print(timeit.timeit('quickSort(t,0,7)', globals=globals())) \n",
    "#quickSort(tab,0,24999)"
   ]
  },
  {
   "cell_type": "code",
   "execution_count": null,
   "metadata": {},
   "outputs": [],
   "source": [
    "start = time.time()\n",
    "quickSort(tab,0,25000)\n",
    "end = time.time()\n",
    "print(end - start)"
   ]
  },
  {
   "cell_type": "markdown",
   "metadata": {},
   "source": [
    "\n",
    "<h3><p style=\"color:blue;\">Mesure de la complexité</p></h3>\n",
    "<p>Avec le tri rapide, le pire des cas se produit lorsque le processus de partition sélectionne toujours l'élément le plus grand ou le plus petit commeou le tableau est déjà trié par ordre croissant ou décroissant{O(n^2 )}.\n",
    "Meilleur cas: le meilleur cas se produit lorsque le processus de partition sélectionne toujours l'élément du milieu comme pivot O (n log n).\n",
    "</p>"
   ]
  },
  {
   "cell_type": "code",
   "execution_count": null,
   "metadata": {},
   "outputs": [],
   "source": []
  }
 ],
 "metadata": {
  "kernelspec": {
   "display_name": "Python 3",
   "language": "python",
   "name": "python3"
  },
  "language_info": {
   "codemirror_mode": {
    "name": "ipython",
    "version": 3
   },
   "file_extension": ".py",
   "mimetype": "text/x-python",
   "name": "python",
   "nbconvert_exporter": "python",
   "pygments_lexer": "ipython3",
   "version": "3.7.1"
  }
 },
 "nbformat": 4,
 "nbformat_minor": 2
}
