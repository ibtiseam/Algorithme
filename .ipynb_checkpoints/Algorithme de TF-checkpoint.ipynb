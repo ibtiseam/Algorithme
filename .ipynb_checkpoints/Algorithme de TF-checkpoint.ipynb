{
 "cells": [
  {
   "cell_type": "markdown",
   "metadata": {},
   "source": [
    "# <H1><br><center> Travaux à faire </center></H1>\n",
    "* **Réaliser par : Ibtissem BOUZIDI 2DNI1** *"
   ]
  },
  {
   "cell_type": "markdown",
   "metadata": {},
   "source": [
    "### L'importance des algorithmes de tri en Python\n",
    "<p>Le tri est l'un des algorithmes les plus étudiés en informatique. Il existe des dizaines d'implémentations et d'applications de tri différentes que vous pouvez utiliser pour rendre votre code plus efficace</p>"
   ]
  },
  {
   "cell_type": "markdown",
   "metadata": {},
   "source": [
    "<center>---------------------------</center>"
   ]
  },
  {
   "cell_type": "markdown",
   "metadata": {},
   "source": [
    "### Algorithmes de tri \n",
    "<ol>\n",
    "<li>Tri par sélection</li>\n",
    "<li>Tri à bulle</li>\n",
    "<li>Tri par insertion</li>\n",
    "<li>Tri par fusion</li>\n",
    "<li>Tri par rapide</li>\n",
    "</ol>"
   ]
  },
  {
   "cell_type": "markdown",
   "metadata": {},
   "source": [
    "<h3><p style=\"color:red;\">Tri par fusion :</p></h3>\n",
    "<p>Le tri fusion se base sur le principe diviser pour régner.</p>\n",
    "\n",
    "<ul><li>Si le tableau a une seule case, alors il est considéré comme trié.</li>\n",
    "<li>Sinon, on découpe le tableau en deux parties de même taille (à une case près, si le nombre d’éléments du tableau est impair) et on trie chacune des deux parties.</li>\n",
    "    <li>On fusionne les deux parties triées.</li>"
   ]
  },
  {
   "cell_type": "code",
   "execution_count": 1,
   "metadata": {},
   "outputs": [],
   "source": [
    "import time\n",
    "import pandas as pd \n",
    "import timeit\n",
    "import numpy as np\n",
    "%matplotlib inline\n",
    "import matplotlib.pyplot as plt\n",
    "from random import *"
   ]
  },
  {
   "cell_type": "code",
   "execution_count": 2,
   "metadata": {},
   "outputs": [],
   "source": [
    "temps_exection_TS=[]\n",
    "N=np.array([20000,25000,30000,35000,40000,45000,50000,55000,60000,65000,70000,75000,80000,85000,90000,95000,100000])"
   ]
  },
  {
   "cell_type": "code",
   "execution_count": 8,
   "metadata": {},
   "outputs": [],
   "source": [
    "def merge_sort(array):\n",
    "  \n",
    "    #print(\"diviser \",array)\n",
    "    if len(array) < 2:\n",
    "        return array\n",
    "\n",
    "    midpoint = len(array) // 2\n",
    "    \n",
    "    return merge(\n",
    "        left=merge_sort(array[:midpoint]),\n",
    "        right=merge_sort(array[midpoint:]))\n",
    "\n",
    "def merge(left, right):\n",
    "    \n",
    "    if len(left) == 0:\n",
    "        return right\n",
    "\n",
    "    if len(right) == 0:\n",
    "        return left\n",
    "\n",
    "    result = []\n",
    "    index_left = index_right = 0\n",
    "\n",
    "\n",
    "    while len(result) < len(left) + len(right):\n",
    "        \n",
    "        if left[index_left] <= right[index_right]:\n",
    "            result.append(left[index_left])\n",
    "            index_left += 1\n",
    "            #print(\"régner \",result)\n",
    "        else:\n",
    "            result.append(right[index_right])\n",
    "            index_right += 1\n",
    "           #print(\"régner \",result)\n",
    "\n",
    "        if index_right == len(right):\n",
    "            result += left[index_left:]\n",
    "           # print(\"régner \",result)\n",
    "            break\n",
    "\n",
    "        if index_left == len(left):\n",
    "            result += right[index_right:]\n",
    "           # print(\"régner \",result)\n",
    "            break\n",
    "        \n",
    "    return result"
   ]
  },
  {
   "cell_type": "code",
   "execution_count": 4,
   "metadata": {},
   "outputs": [
    {
     "name": "stdout",
     "output_type": "stream",
     "text": [
      "0.18923640251159668\n",
      "0.25456666946411133\n",
      "0.31263279914855957\n",
      "0.4332916736602783\n",
      "0.47626161575317383\n",
      "0.4894986152648926\n",
      "0.49260401725769043\n",
      "0.5965652465820312\n",
      "0.6754803657531738\n",
      "0.7327470779418945\n",
      "0.8592925071716309\n",
      "0.9233870506286621\n",
      "0.9624471664428711\n",
      "0.9851977825164795\n",
      "1.0647053718566895\n",
      "1.1856987476348877\n",
      "1.2262890338897705\n"
     ]
    }
   ],
   "source": [
    "for i in range(len(N)) :\n",
    "    tab=[]\n",
    "    for j in range(0,int(N[i])) :\n",
    "        r=randint(0,100)\n",
    "        tab.append(r)\n",
    "    start = time.time()\n",
    "    r=merge_sort(tab)\n",
    "    end = time.time()\n",
    "    print(end - start)\n",
    "    temps_exection_TS=np.append(end - start,temps_exection_TS)"
   ]
  },
  {
   "cell_type": "code",
   "execution_count": 9,
   "metadata": {},
   "outputs": [
    {
     "name": "stdout",
     "output_type": "stream",
     "text": [
      "    temps_exection_TS\n",
      "0            0.189236\n",
      "1            0.254567\n",
      "2            0.312633\n",
      "3            0.433292\n",
      "4            0.476262\n",
      "5            0.489499\n",
      "6            0.492604\n",
      "7            0.596565\n",
      "8            0.675480\n",
      "9            0.732747\n",
      "10           0.859293\n",
      "11           0.923387\n",
      "12           0.962447\n",
      "13           0.985198\n",
      "14           1.064705\n",
      "15           1.185699\n",
      "16           1.226289\n"
     ]
    }
   ],
   "source": [
    "df = pd.DataFrame(temps_exection_TS,columns=['temps_exection_TS'])\n",
    "df['temps_exection_TS'] = df['temps_exection_TS'].sort_values(ascending=True).tolist()\n",
    "print(df)"
   ]
  },
  {
   "cell_type": "code",
   "execution_count": 10,
   "metadata": {},
   "outputs": [],
   "source": [
    "dfn = pd.DataFrame(N,columns=['N'])"
   ]
  },
  {
   "cell_type": "code",
   "execution_count": 11,
   "metadata": {},
   "outputs": [
    {
     "name": "stdout",
     "output_type": "stream",
     "text": [
      "    temps_exection_TS       N\n",
      "0            0.189236   20000\n",
      "1            0.254567   25000\n",
      "2            0.312633   30000\n",
      "3            0.433292   35000\n",
      "4            0.476262   40000\n",
      "5            0.489499   45000\n",
      "6            0.492604   50000\n",
      "7            0.596565   55000\n",
      "8            0.675480   60000\n",
      "9            0.732747   65000\n",
      "10           0.859293   70000\n",
      "11           0.923387   75000\n",
      "12           0.962447   80000\n",
      "13           0.985198   85000\n",
      "14           1.064705   90000\n",
      "15           1.185699   95000\n",
      "16           1.226289  100000\n"
     ]
    }
   ],
   "source": [
    "tab_mesure=pd.concat([df, dfn], axis=1)\n",
    "print(tab_mesure)"
   ]
  },
  {
   "cell_type": "code",
   "execution_count": 12,
   "metadata": {},
   "outputs": [
    {
     "data": {
      "text/plain": [
       "Text(0, 0.5, 'Temps (s)')"
      ]
     },
     "execution_count": 12,
     "metadata": {},
     "output_type": "execute_result"
    },
    {
     "data": {
      "image/png": "[encoded data removed]",
      "text/plain": [
       "<Figure size 432x288 with 1 Axes>"
      ]
     },
     "metadata": {
      "needs_background": "light"
     },
     "output_type": "display_data"
    }
   ],
   "source": [
    "#plt.plot(tab_mesure['N'], tab_mesure['temps_exection_TS'])\n",
    "plt.plot(N, temps_exection_TS)\n",
    "plt.xlabel('N')\n",
    "plt.ylabel('Temps (s)')"
   ]
  },
  {
   "cell_type": "markdown",
   "metadata": {},
   "source": [
    "\n",
    "<h3><p style=\"color:blue;\">Pour analyser la complexité du tri par fusion, vous pouvez examiner ses deux étapes séparément: :</p></h3>\n",
    "<ul>\n",
    "<li>merge() : a un temps d'exécution linéaire. Il reçoit deux tableaux dont la longueur combinée est au plus n (la longueur du tableau d'entrée d'origine), et il combine les deux tableaux en regardant chaque élément au plus une fois. Cela conduit à une complexité d'exécution de O (n) .</li>\n",
    "\n",
    "<li>La deuxième étape divise le tableau d'entrée de manière récursive et appelle merge()chaque moitié. Puisque le tableau est divisé par deux jusqu'à ce qu'un seul élément reste, le nombre total d'opérations de réduction de moitié effectuées par cette fonction est log 2 n . Puisqu'il merge()est appelé pour chaque moitié, nous obtenons un temps d'exécution total de O (n log 2 n) .</li>"
   ]
  }
 ],
 "metadata": {
  "kernelspec": {
   "display_name": "Python 3",
   "language": "python",
   "name": "python3"
  },
  "language_info": {
   "codemirror_mode": {
    "name": "ipython",
    "version": 3
   },
   "file_extension": ".py",
   "mimetype": "text/x-python",
   "name": "python",
   "nbconvert_exporter": "python",
   "pygments_lexer": "ipython3",
   "version": "3.7.1"
  }
 },
 "nbformat": 4,
 "nbformat_minor": 2
}
