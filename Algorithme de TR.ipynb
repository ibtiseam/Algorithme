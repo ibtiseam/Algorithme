{
 "cells": [
  {
   "cell_type": "markdown",
   "metadata": {},
   "source": [
    "# <H1><br><center> Travaux à faire </center></H1>\n",
    "* **Réaliser par : Ibtissem BOUZIDI 2DNI1** *"
   ]
  },
  {
   "cell_type": "markdown",
   "metadata": {},
   "source": [
    "### L'importance des algorithmes de tri en Python\n",
    "<p>Le tri est l'un des algorithmes les plus étudiés en informatique. Il existe des dizaines d'implémentations et d'applications de tri différentes que vous pouvez utiliser pour rendre votre code plus efficace</p>"
   ]
  },
  {
   "cell_type": "markdown",
   "metadata": {},
   "source": [
    "<center>---------------------------</center>"
   ]
  },
  {
   "cell_type": "markdown",
   "metadata": {},
   "source": [
    "### Algorithmes de tri \n",
    "<ol>\n",
    "<li>Tri par sélection</li>\n",
    "<li>Tri à bulle</li>\n",
    "<li>Tri par insertion</li>\n",
    "<li>Tri par fusion</li>\n",
    "<li>Tri par rapide</li>\n",
    "</ol>"
   ]
  },
  {
   "cell_type": "markdown",
   "metadata": {},
   "source": [
    "\n",
    "<h3><p style=\"color:red;\">Tri rapide :</p></h3>\n",
    "<p>   Le principe de ce tri est d’ordonner le vecteur v[0..n] en cherchant dans celui-ci une clé pivot autour de laquelle réorganiser ses éléments. Il est souhaitable que le pivot soit aussi proche que possible de la clé relative à l’enregistrement central du vecteur, afin qu’il y ait à peu près autant d’éléments le précédant que le suivant, soit environ la moitié des éléments du tableau.</p>\n",
    "\n",
    "####  Le choix du pivot est déterminant pour l'efficacité de ce tri. Plusieurs options sont possibles :\n",
    "<ul>\n",
    "<li>Choisir le premier élément du tableau</li>\n",
    "<li>Choisir le dernier élément du tableau</li>\n",
    "<li>Choisir un élément au hasard</li>\n",
    "<li>Choisir l'élément au milieu du tableau</li>\n",
    "<li>Trouver le pivot optimal en recherchant la médiane</li>\n",
    "    </ul>"
   ]
  },
  {
   "cell_type": "code",
   "execution_count": 15,
   "metadata": {},
   "outputs": [],
   "source": [
    "import time\n",
    "import pandas as pd \n",
    "import timeit\n",
    "import numpy as np\n",
    "%matplotlib inline\n",
    "import matplotlib.pyplot as plt\n",
    "from random import *"
   ]
  },
  {
   "cell_type": "code",
   "execution_count": 6,
   "metadata": {},
   "outputs": [],
   "source": [
    "temps_exection_TR=[]\n",
    "N=np.array([20000,25000,30000,35000,40000,45000,50000,55000,60000,65000,70000,75000,80000,85000,90000,95000,100000])"
   ]
  },
  {
   "cell_type": "code",
   "execution_count": 7,
   "metadata": {},
   "outputs": [],
   "source": [
    "import sys\n",
    "sys.setrecursionlimit(25000)\n",
    "def partition(arr, low, high):\n",
    "    i = (low-1)        \n",
    "    pivot = arr[high]     \n",
    " \n",
    "    for j in range(low, high):\n",
    "        if arr[j] <= pivot:\n",
    "            i = i+1\n",
    "            arr[i], arr[j] = arr[j], arr[i]\n",
    " \n",
    "    arr[i+1], arr[high] = arr[high], arr[i+1]\n",
    "    return (i+1)\n",
    "\n",
    "def quickSort(arr, low,high):\n",
    "    if len(arr) == 1:\n",
    "        return arr\n",
    "    if low < high:\n",
    " \n",
    "        pi = partition(arr, low, high)\n",
    "\n",
    "        quickSort(arr, low, pi-1)\n",
    "        quickSort(arr, pi+1, high)\n"
   ]
  },
  {
   "cell_type": "code",
   "execution_count": 8,
   "metadata": {},
   "outputs": [
    {
     "name": "stdout",
     "output_type": "stream",
     "text": [
      "0.5462360382080078\n",
      "0.8232672214508057\n",
      "1.1597914695739746\n",
      "1.6402990818023682\n",
      "2.368703842163086\n",
      "3.4010846614837646\n",
      "3.36712908744812\n",
      "4.221853494644165\n",
      "5.208755970001221\n",
      "5.3842151165008545\n",
      "6.992965459823608\n",
      "7.967626094818115\n",
      "10.077397108078003\n",
      "10.932843446731567\n",
      "12.546185970306396\n",
      "12.701414585113525\n",
      "13.333374977111816\n"
     ]
    }
   ],
   "source": [
    "for i in range(len(N)) :\n",
    "    tab=[]\n",
    "    for j in range(0,int(N[i])) :\n",
    "        r=randint(0,100)\n",
    "        tab.append(r)\n",
    "    n = len(tab)\n",
    "    start = time.time()\n",
    "    quickSort(tab, 0, n-1)\n",
    "    end = time.time()\n",
    "    print(end - start)\n",
    "    temps_exection_TR=np.append(end - start,temps_exection_TR)"
   ]
  },
  {
   "cell_type": "code",
   "execution_count": 11,
   "metadata": {},
   "outputs": [
    {
     "name": "stdout",
     "output_type": "stream",
     "text": [
      "    temps_exection_TR\n",
      "0            0.546236\n",
      "1            0.823267\n",
      "2            1.159791\n",
      "3            1.640299\n",
      "4            2.368704\n",
      "5            3.367129\n",
      "6            3.401085\n",
      "7            4.221853\n",
      "8            5.208756\n",
      "9            5.384215\n",
      "10           6.992965\n",
      "11           7.967626\n",
      "12          10.077397\n",
      "13          10.932843\n",
      "14          12.546186\n",
      "15          12.701415\n",
      "16          13.333375\n"
     ]
    }
   ],
   "source": [
    "df = pd.DataFrame(temps_exection_TR,columns=['temps_exection_TR'])\n",
    "df['temps_exection_TR'] = df['temps_exection_TR'].sort_values(ascending=True).tolist()\n",
    "print(df)"
   ]
  },
  {
   "cell_type": "code",
   "execution_count": 12,
   "metadata": {},
   "outputs": [],
   "source": [
    "dfn = pd.DataFrame(N,columns=['N'])"
   ]
  },
  {
   "cell_type": "code",
   "execution_count": 13,
   "metadata": {},
   "outputs": [
    {
     "name": "stdout",
     "output_type": "stream",
     "text": [
      "    temps_exection_TR       N\n",
      "0            0.546236   20000\n",
      "1            0.823267   25000\n",
      "2            1.159791   30000\n",
      "3            1.640299   35000\n",
      "4            2.368704   40000\n",
      "5            3.367129   45000\n",
      "6            3.401085   50000\n",
      "7            4.221853   55000\n",
      "8            5.208756   60000\n",
      "9            5.384215   65000\n",
      "10           6.992965   70000\n",
      "11           7.967626   75000\n",
      "12          10.077397   80000\n",
      "13          10.932843   85000\n",
      "14          12.546186   90000\n",
      "15          12.701415   95000\n",
      "16          13.333375  100000\n"
     ]
    }
   ],
   "source": [
    "tab_mesure=pd.concat([df, dfn], axis=1)\n",
    "print(tab_mesure)"
   ]
  },
  {
   "cell_type": "code",
   "execution_count": 16,
   "metadata": {},
   "outputs": [],
   "source": [
    "tab_mesure=np.array([[20000,0.546236],[25000,0.823267] ,[30000,1.159791],[35000,1.640299],[40000,2.368704],\n",
    "                     [45000,3.367129] ,[50000,3.401085] ,[55000,4.221853] ,[60000, 5.208756],\n",
    "                     [65000,5.384215],[70000, 6.992965 ],[75000,7.967626],[80000,10.077397 ],\n",
    "                     [85000 ,10.932843],[90000,12.546186],[95000,12.701415],[100000,13.333375 ]])"
   ]
  },
  {
   "cell_type": "code",
   "execution_count": 18,
   "metadata": {},
   "outputs": [],
   "source": [
    "df = pd.DataFrame(tab_mesure,columns=['N','temps_exection_TS'])"
   ]
  },
  {
   "cell_type": "code",
   "execution_count": 23,
   "metadata": {},
   "outputs": [
    {
     "name": "stderr",
     "output_type": "stream",
     "text": [
      "C:\\Users\\ASUS\\Anaconda3\\lib\\site-packages\\matplotlib\\cbook\\__init__.py:1402: FutureWarning: Support for multi-dimensional indexing (e.g. `obj[:, None]`) is deprecated and will be removed in a future version.  Convert to a numpy array before indexing instead.\n",
      "  x[:, None]\n",
      "C:\\Users\\ASUS\\Anaconda3\\lib\\site-packages\\matplotlib\\axes\\_base.py:276: FutureWarning: Support for multi-dimensional indexing (e.g. `obj[:, None]`) is deprecated and will be removed in a future version.  Convert to a numpy array before indexing instead.\n",
      "  x = x[:, np.newaxis]\n",
      "C:\\Users\\ASUS\\Anaconda3\\lib\\site-packages\\matplotlib\\axes\\_base.py:278: FutureWarning: Support for multi-dimensional indexing (e.g. `obj[:, None]`) is deprecated and will be removed in a future version.  Convert to a numpy array before indexing instead.\n",
      "  y = y[:, np.newaxis]\n"
     ]
    },
    {
     "data": {
      "text/plain": [
       "(0, 30)"
      ]
     },
     "execution_count": 23,
     "metadata": {},
     "output_type": "execute_result"
    },
    {
     "data": {
      "image/png": "[encoded data removed]",
      "text/plain": [
       "<Figure size 432x288 with 1 Axes>"
      ]
     },
     "metadata": {
      "needs_background": "light"
     },
     "output_type": "display_data"
    }
   ],
   "source": [
    "#plt.plot(tab_mesure['N'], tab_mesure['temps_exection_TS'])\n",
    "#plt.plot(tab_mesure['N'], tab_mesure['temps_exection_TS'])\n",
    "plt.plot(df['N'], df['temps_exection_TS'])\n",
    "plt.xlabel('N')\n",
    "plt.ylabel('Temps (s)')\n",
    "plt.ylim(0, 30)  "
   ]
  },
  {
   "cell_type": "markdown",
   "metadata": {},
   "source": [
    "\n",
    "<h3><p style=\"color:blue;\">Mesure de la complexité</p></h3>\n",
    "<p>Avec le tri rapide, le pire des cas se produit lorsque le processus de partition sélectionne toujours l'élément le plus grand ou le plus petit commeou le tableau est déjà trié par ordre croissant ou décroissant{O(n^2 )}.\n",
    "Meilleur cas: le meilleur cas se produit lorsque le processus de partition sélectionne toujours l'élément du milieu comme pivot O (n log n).\n",
    "</p>"
   ]
  }
 ],
 "metadata": {
  "kernelspec": {
   "display_name": "Python 3",
   "language": "python",
   "name": "python3"
  },
  "language_info": {
   "codemirror_mode": {
    "name": "ipython",
    "version": 3
   },
   "file_extension": ".py",
   "mimetype": "text/x-python",
   "name": "python",
   "nbconvert_exporter": "python",
   "pygments_lexer": "ipython3",
   "version": "3.7.1"
  }
 },
 "nbformat": 4,
 "nbformat_minor": 2
}
