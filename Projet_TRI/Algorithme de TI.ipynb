{
 "cells": [
  {
   "cell_type": "markdown",
   "metadata": {},
   "source": [
    "# <H1><br><center> Travaux à faire </center></H1>\n",
    "* **Réaliser par : Ibtissem BOUZIDI 2DNI1** *"
   ]
  },
  {
   "cell_type": "markdown",
   "metadata": {},
   "source": [
    "### L'importance des algorithmes de tri en Python\n",
    "<p>Le tri est l'un des algorithmes les plus étudiés en informatique. Il existe des dizaines d'implémentations et d'applications de tri différentes que vous pouvez utiliser pour rendre votre code plus efficace</p>"
   ]
  },
  {
   "cell_type": "markdown",
   "metadata": {},
   "source": [
    "<center>---------------------------</center>"
   ]
  },
  {
   "cell_type": "markdown",
   "metadata": {},
   "source": [
    "### Algorithmes de tri \n",
    "<ol>\n",
    "<li>Tri par sélection</li>\n",
    "<li>Tri à bulle</li>\n",
    "<li>Tri par insertion</li>\n",
    "<li>Tri par fusion</li>\n",
    "<li>Tri par rapide</li>\n",
    "</ol>"
   ]
  },
  {
   "cell_type": "markdown",
   "metadata": {},
   "source": [
    "<h3><p style=\"color:red;\">Tri par insertion :</p></h3>\n",
    "<p>L’algorithme du tri par insertion n’est utile que pour les petits éléments, car elle nécessite plus de temps pour trier un grand nombre d’éléments. Voici l'algorithme  :</p>"
   ]
  },
  {
   "cell_type": "code",
   "execution_count": 93,
   "metadata": {},
   "outputs": [],
   "source": [
    "import time\n",
    "import pandas as pd \n",
    "import timeit\n",
    "import numpy as np\n",
    "%matplotlib inline\n",
    "import matplotlib.pyplot as plt\n",
    "from random import *"
   ]
  },
  {
   "cell_type": "code",
   "execution_count": 2,
   "metadata": {},
   "outputs": [],
   "source": [
    "temps_exection_TS=[]\n",
    "N=np.array([20000,25000,30000,35000,40000,45000,50000,55000,60000,65000,70000,75000,80000,85000,90000,95000,100000])"
   ]
  },
  {
   "cell_type": "code",
   "execution_count": 3,
   "metadata": {},
   "outputs": [],
   "source": [
    "def tri_insertion(t): \n",
    "    for i in range(1, len(t)): \n",
    "        k = t[i] \n",
    "        j = i-1 \n",
    "        while j >= 0 and k < t[j] : \n",
    "                t[j + 1] = t[j] \n",
    "                j -= 1\n",
    "        t[j + 1] = k "
   ]
  },
  {
   "cell_type": "code",
   "execution_count": 5,
   "metadata": {},
   "outputs": [
    {
     "name": "stdout",
     "output_type": "stream",
     "text": [
      "23.698376655578613\n",
      "40.47339677810669\n",
      "53.7576117515564\n",
      "83.39751935005188\n",
      "105.6012909412384\n",
      "132.98796010017395\n",
      "163.32420086860657\n",
      "199.30107998847961\n",
      "238.0925657749176\n",
      "283.6578712463379\n",
      "324.56617164611816\n",
      "369.4241359233856\n",
      "386.227379322052\n",
      "451.7812249660492\n",
      "536.1302649974823\n",
      "637.7233836650848\n",
      "660.4470348358154\n"
     ]
    }
   ],
   "source": [
    "for i in range(len(N)) :\n",
    "    tab=[]\n",
    "    for j in range(0,int(N[i])) :\n",
    "        r=randint(0,100)\n",
    "        tab.append(r)\n",
    "    start = time.time()\n",
    "    tri_insertion(tab)\n",
    "    end = time.time()\n",
    "    print(end - start)\n",
    "    temps_exection_TS=np.append(end - start,temps_exection_TS)"
   ]
  },
  {
   "cell_type": "code",
   "execution_count": 85,
   "metadata": {},
   "outputs": [],
   "source": [
    "df = pd.DataFrame(temps_exection_TS,columns=['temps_exection_TS'])\n",
    "df['temps_exection_TS'] = df['temps_exection_TS'].sort_values(ascending=True).tolist()\n",
    "#print(df)"
   ]
  },
  {
   "cell_type": "code",
   "execution_count": 86,
   "metadata": {},
   "outputs": [],
   "source": [
    "dfn = pd.DataFrame(N,columns=['N'])"
   ]
  },
  {
   "cell_type": "code",
   "execution_count": 91,
   "metadata": {},
   "outputs": [
    {
     "name": "stdout",
     "output_type": "stream",
     "text": [
      "         N  temps_exection_TS\n",
      "0    20000          23.698377\n",
      "1    25000          40.473397\n",
      "2    30000          53.757612\n",
      "3    35000          83.397519\n",
      "4    40000         105.601291\n",
      "5    45000         132.987960\n",
      "6    50000         163.324201\n",
      "7    55000         199.301080\n",
      "8    60000         238.092566\n",
      "9    65000         283.657871\n",
      "10   70000         324.566172\n",
      "11   75000         369.424136\n",
      "12   80000         386.227379\n",
      "13   85000         451.781225\n",
      "14   90000         536.130265\n",
      "15   95000         637.723384\n",
      "16  100000         660.447035\n"
     ]
    }
   ],
   "source": [
    "tab_mesure=pd.concat([dfn, df], axis=1)\n",
    "print(tab_mesure)"
   ]
  },
  {
   "cell_type": "code",
   "execution_count": 94,
   "metadata": {},
   "outputs": [],
   "source": [
    "tab_mesure=np.array([[20000,23.698377],[25000,40.473397] ,[30000,53.757612],[35000,83.397519],[40000,105.601291],\n",
    "                     [45000,132.987960] ,[50000,163.324201] ,[55000,199.301080] ,[60000,238.092566],\n",
    "                     [65000,283.657871],[70000,324.566172 ],[75000,369.424136],[80000,386.227379 ],\n",
    "                     [85000,451.781225],[90000,536.130265],[95000,637.723384 ],[100000,660.447035]])"
   ]
  },
  {
   "cell_type": "code",
   "execution_count": 96,
   "metadata": {},
   "outputs": [],
   "source": [
    "df = pd.DataFrame(tab_mesure,columns=['N','temps_exection_TS'])"
   ]
  },
  {
   "cell_type": "code",
   "execution_count": 97,
   "metadata": {},
   "outputs": [
    {
     "name": "stderr",
     "output_type": "stream",
     "text": [
      "C:\\Users\\ASUS\\Anaconda3\\lib\\site-packages\\matplotlib\\cbook\\__init__.py:1402: FutureWarning: Support for multi-dimensional indexing (e.g. `obj[:, None]`) is deprecated and will be removed in a future version.  Convert to a numpy array before indexing instead.\n",
      "  x[:, None]\n",
      "C:\\Users\\ASUS\\Anaconda3\\lib\\site-packages\\matplotlib\\axes\\_base.py:276: FutureWarning: Support for multi-dimensional indexing (e.g. `obj[:, None]`) is deprecated and will be removed in a future version.  Convert to a numpy array before indexing instead.\n",
      "  x = x[:, np.newaxis]\n",
      "C:\\Users\\ASUS\\Anaconda3\\lib\\site-packages\\matplotlib\\axes\\_base.py:278: FutureWarning: Support for multi-dimensional indexing (e.g. `obj[:, None]`) is deprecated and will be removed in a future version.  Convert to a numpy array before indexing instead.\n",
      "  y = y[:, np.newaxis]\n"
     ]
    },
    {
     "data": {
      "text/plain": [
       "(0, 1000)"
      ]
     },
     "execution_count": 97,
     "metadata": {},
     "output_type": "execute_result"
    },
    {
     "data": {
      "image/png": "[encoded data removed]",
      "text/plain": [
       "<Figure size 432x288 with 1 Axes>"
      ]
     },
     "metadata": {
      "needs_background": "light"
     },
     "output_type": "display_data"
    }
   ],
   "source": [
    "#plt.plot(tab_mesure['N'], tab_mesure['temps_exection_TS'])\n",
    "plt.plot(df['N'], df['temps_exection_TS'])\n",
    "plt.xlabel('N')\n",
    "plt.ylabel('Temps (s)')\n",
    "plt.ylim(0, 1000) "
   ]
  },
  {
   "cell_type": "code",
   "execution_count": 98,
   "metadata": {},
   "outputs": [
    {
     "data": {
      "text/plain": [
       "0      23.698377\n",
       "1      40.473397\n",
       "2      53.757612\n",
       "3      83.397519\n",
       "4     105.601291\n",
       "5     132.987960\n",
       "6     163.324201\n",
       "7     199.301080\n",
       "8     238.092566\n",
       "9     283.657871\n",
       "10    324.566172\n",
       "11    369.424136\n",
       "12    386.227379\n",
       "13    451.781225\n",
       "14    536.130265\n",
       "15    637.723384\n",
       "16    660.447035\n",
       "Name: temps_exection_TS, dtype: float64"
      ]
     },
     "execution_count": 98,
     "metadata": {},
     "output_type": "execute_result"
    }
   ],
   "source": [
    "df['temps_exection_TS']"
   ]
  },
  {
   "cell_type": "markdown",
   "metadata": {},
   "source": [
    "<h3><p style=\"color:blue;\">Conclusion</p></h3>\n",
    "<p> Le tri par sélection/inserction/bulle fonctionne mieux avec un petit nombre d’éléments.  La complexité d’exécution de c'est algorithme dans le pire des cas est o(n^2) donc si il prend beaucoup de temps avec les tableau de grand taille</p>"
   ]
  }
 ],
 "metadata": {
  "kernelspec": {
   "display_name": "Python 3",
   "language": "python",
   "name": "python3"
  },
  "language_info": {
   "codemirror_mode": {
    "name": "ipython",
    "version": 3
   },
   "file_extension": ".py",
   "mimetype": "text/x-python",
   "name": "python",
   "nbconvert_exporter": "python",
   "pygments_lexer": "ipython3",
   "version": "3.7.1"
  }
 },
 "nbformat": 4,
 "nbformat_minor": 2
}
