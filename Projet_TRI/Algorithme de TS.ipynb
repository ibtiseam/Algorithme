{
 "cells": [
  {
   "cell_type": "markdown",
   "metadata": {},
   "source": [
    "# <H1><br><center> Travaux à faire </center></H1>\n",
    "* **Réaliser par : Ibtissem BOUZIDI 2DNI1** *"
   ]
  },
  {
   "cell_type": "markdown",
   "metadata": {},
   "source": [
    "### L'importance des algorithmes de tri en Python\n",
    "<p>Le tri est l'un des algorithmes les plus étudiés en informatique. Il existe des dizaines d'implémentations et d'applications de tri différentes que vous pouvez utiliser pour rendre votre code plus efficace</p>"
   ]
  },
  {
   "cell_type": "markdown",
   "metadata": {},
   "source": [
    "<center>---------------------------</center>"
   ]
  },
  {
   "cell_type": "markdown",
   "metadata": {},
   "source": [
    "### Algorithmes de tri \n",
    "<ol>\n",
    "<li>Tri par sélection</li>\n",
    "<li>Tri à bulle</li>\n",
    "<li>Tri par insertion</li>\n",
    "<li>Tri par fusion</li>\n",
    "<li>Tri par rapide</li>\n",
    "</ol>"
   ]
  },
  {
   "cell_type": "markdown",
   "metadata": {},
   "source": [
    "<h3><p style=\"color:red;\">Tri par sélection :</p></h3>\n",
    "<p>Nous pouvons créer un programme Python pour trier les éléments d’un tableau à l’aide du tri par sélection. Dans l’algorithme de tri par sélection, nous cherchons l’élément le plus petit et on le met au bon endroit. Nous échangeons l’élément en cours avec le prochain élément le plus petit. Voici l'algorithme en python .</p>"
   ]
  },
  {
   "cell_type": "code",
   "execution_count": 8,
   "metadata": {},
   "outputs": [],
   "source": [
    "import time\n",
    "import pandas as pd \n",
    "import timeit\n",
    "import numpy as np\n",
    "%matplotlib inline\n",
    "import matplotlib.pyplot as plt\n",
    "from random import *"
   ]
  },
  {
   "cell_type": "code",
   "execution_count": 19,
   "metadata": {},
   "outputs": [],
   "source": [
    "temps_exection_TS=[]"
   ]
  },
  {
   "cell_type": "code",
   "execution_count": 82,
   "metadata": {},
   "outputs": [],
   "source": [
    "tab=[]\n",
    "for i in range(100000) :\n",
    "    r=randint(0,100)\n",
    "    tab.append(r)  "
   ]
  },
  {
   "cell_type": "code",
   "execution_count": 83,
   "metadata": {},
   "outputs": [],
   "source": [
    "def tri_selection(t):\n",
    "    for i in range(len(t)):# len(t) fois de une affectation et un boucle fe \n",
    "        min = i #1 aff n fois\n",
    "        for j in range(i+1, len(t)):#le nombre de fois d'excution de ces deux \n",
    "                                     #opération est len(t)-1 \n",
    "            if t[min] > t[j]: #une opération \n",
    "                min = j# une affectation \n",
    "                \n",
    "        aux = t[i]# 1 aff\n",
    "        t[i] = t[min]#1 aff\n",
    "        t[min] = aux#1 aff\n",
    "###############\n",
    "\n",
    " \n",
    "#tri_selection(t)\n",
    " \n",
    "#print (\"Le tableau trié est:\")\n",
    "#for i in range(len(t)):\n",
    "    #print (\"%d\" %t[i])\n",
    "    \n",
    "#print(timeit.timeit('tri_selection(t)', globals=globals()))\n",
    "#%timeit tri_selection(t)"
   ]
  },
  {
   "cell_type": "code",
   "execution_count": 84,
   "metadata": {
    "scrolled": true
   },
   "outputs": [
    {
     "name": "stdout",
     "output_type": "stream",
     "text": [
      "566.1813502311707\n"
     ]
    }
   ],
   "source": [
    "start = time.time()\n",
    "tri_selection(tab)\n",
    "end = time.time()\n",
    "print(end - start)"
   ]
  },
  {
   "cell_type": "code",
   "execution_count": 139,
   "metadata": {},
   "outputs": [
    {
     "name": "stdout",
     "output_type": "stream",
     "text": [
      "[ 17.9090395   33.59915614  47.28412175  65.36998153  68.68598223\n",
      " 100.22179389 143.18008137 169.53873777 203.02732015 229.77112269\n",
      " 274.37833142 323.43054652 418.85548043 426.0173862  435.94693589\n",
      " 446.59267807 566.18135023]\n"
     ]
    }
   ],
   "source": [
    "#temps_exection_TS=np.append(end - start)\n",
    "print(temps_exection_TS)"
   ]
  },
  {
   "cell_type": "code",
   "execution_count": 9,
   "metadata": {},
   "outputs": [],
   "source": [
    "N=np.array([20000,25000,30000,35000,40000,45000,50000,55000,60000,65000,70000,75000,80000,85000,90000,95000,100000])"
   ]
  },
  {
   "cell_type": "code",
   "execution_count": 10,
   "metadata": {},
   "outputs": [],
   "source": [
    "tab_mesure=np.array([[20000,17.9090395],[25000,33.59915614] ,[30000,47.28412175],[35000,65.36998153],[40000,68.68598223],[45000,100.22179389] ,[50000,143.18008137] ,[55000,169.53873777] ,[60000,203.02732015],[65000,229.77112269],[70000,274.37833142 ],[75000,323.43054652 ],[80000,418.85548043 ],[85000,426.0173862],[90000,435.94693589],[95000,446.59267807 ],[100000,566.18135023]])"
   ]
  },
  {
   "cell_type": "code",
   "execution_count": 4,
   "metadata": {},
   "outputs": [],
   "source": [
    "#tab_mesure = np.array([N, temps_exection_TS])\n",
    "#print(tab_mesure)"
   ]
  },
  {
   "cell_type": "code",
   "execution_count": 11,
   "metadata": {},
   "outputs": [
    {
     "name": "stdout",
     "output_type": "stream",
     "text": [
      "           N  temps_exection_TS\n",
      "0    20000.0          17.909039\n",
      "1    25000.0          33.599156\n",
      "2    30000.0          47.284122\n",
      "3    35000.0          65.369982\n",
      "4    40000.0          68.685982\n",
      "5    45000.0         100.221794\n",
      "6    50000.0         143.180081\n",
      "7    55000.0         169.538738\n",
      "8    60000.0         203.027320\n",
      "9    65000.0         229.771123\n",
      "10   70000.0         274.378331\n",
      "11   75000.0         323.430547\n",
      "12   80000.0         418.855480\n",
      "13   85000.0         426.017386\n",
      "14   90000.0         435.946936\n",
      "15   95000.0         446.592678\n",
      "16  100000.0         566.181350\n"
     ]
    }
   ],
   "source": [
    "df = pd.DataFrame(tab_mesure,columns=['N','temps_exection_TS'])\n",
    "print(df)"
   ]
  },
  {
   "cell_type": "code",
   "execution_count": 15,
   "metadata": {},
   "outputs": [
    {
     "name": "stderr",
     "output_type": "stream",
     "text": [
      "C:\\Users\\ASUS\\Anaconda3\\lib\\site-packages\\matplotlib\\cbook\\__init__.py:1402: FutureWarning: Support for multi-dimensional indexing (e.g. `obj[:, None]`) is deprecated and will be removed in a future version.  Convert to a numpy array before indexing instead.\n",
      "  x[:, None]\n",
      "C:\\Users\\ASUS\\Anaconda3\\lib\\site-packages\\matplotlib\\axes\\_base.py:276: FutureWarning: Support for multi-dimensional indexing (e.g. `obj[:, None]`) is deprecated and will be removed in a future version.  Convert to a numpy array before indexing instead.\n",
      "  x = x[:, np.newaxis]\n",
      "C:\\Users\\ASUS\\Anaconda3\\lib\\site-packages\\matplotlib\\axes\\_base.py:278: FutureWarning: Support for multi-dimensional indexing (e.g. `obj[:, None]`) is deprecated and will be removed in a future version.  Convert to a numpy array before indexing instead.\n",
      "  y = y[:, np.newaxis]\n"
     ]
    },
    {
     "data": {
      "text/plain": [
       "(0, 1000)"
      ]
     },
     "execution_count": 15,
     "metadata": {},
     "output_type": "execute_result"
    },
    {
     "data": {
      "image/png": "[encoded data removed]",
      "text/plain": [
       "<Figure size 432x288 with 1 Axes>"
      ]
     },
     "metadata": {
      "needs_background": "light"
     },
     "output_type": "display_data"
    }
   ],
   "source": [
    "plt.plot(df['N'], df['temps_exection_TS'])\n",
    "plt.xlabel('N')\n",
    "plt.ylabel('Temps (s)')\n",
    "plt.ylim(0, 1000) "
   ]
  },
  {
   "cell_type": "markdown",
   "metadata": {},
   "source": [
    "<h3><p style=\"color:blue;\">Conclusion</p></h3>\n",
    "<p> Le tri par sélection/inserction/bulle fonctionne mieux avec un petit nombre d’éléments.  La complexité d’exécution de c'est algorithme dans le pire des cas est o(n^2) donc si il prend beaucoup de temps avec les tableau de grand taille</p>"
   ]
  }
 ],
 "metadata": {
  "kernelspec": {
   "display_name": "Python 3",
   "language": "python",
   "name": "python3"
  },
  "language_info": {
   "codemirror_mode": {
    "name": "ipython",
    "version": 3
   },
   "file_extension": ".py",
   "mimetype": "text/x-python",
   "name": "python",
   "nbconvert_exporter": "python",
   "pygments_lexer": "ipython3",
   "version": "3.7.1"
  }
 },
 "nbformat": 4,
 "nbformat_minor": 2
}
