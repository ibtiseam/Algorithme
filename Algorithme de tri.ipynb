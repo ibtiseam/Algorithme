{
 "cells": [
  {
   "cell_type": "markdown",
   "metadata": {},
   "source": [
    "# <H1><br><center> Travaux à faire </center></H1>\n",
    "* **Réaliser par : Ibtissem BOUZIDI 2DNI1** *"
   ]
  },
  {
   "cell_type": "markdown",
   "metadata": {},
   "source": [
    "### L'importance des algorithmes de tri en Python\n",
    "<p>Le tri est l'un des algorithmes les plus étudiés en informatique. Il existe des dizaines d'implémentations et d'applications de tri différentes que vous pouvez utiliser pour rendre votre code plus efficace</p>"
   ]
  },
  {
   "cell_type": "markdown",
   "metadata": {},
   "source": [
    "<center>---------------------------</center>"
   ]
  },
  {
   "cell_type": "markdown",
   "metadata": {},
   "source": [
    "### Algorithmes de tri \n",
    "<ol>\n",
    "<li>Tri par sélection</li>\n",
    "<li>Tri à bulle</li>\n",
    "<li>Tri par insertion</li>\n",
    "<li>Tri par fusion</li>\n",
    "<li>Tri par rapide</li>\n",
    "</ol>"
   ]
  },
  {
   "cell_type": "markdown",
   "metadata": {},
   "source": [
    "<h3><p style=\"color:red;\">Tri par sélection :</p></h3>\n",
    "<p>Nous pouvons créer un programme Python pour trier les éléments d’un tableau à l’aide du tri par sélection. Dans l’algorithme de tri par sélection, nous cherchons l’élément le plus petit et on le met au bon endroit. Nous échangeons l’élément en cours avec le prochain élément le plus petit. Voici l'algorithme en python .</p>"
   ]
  },
  {
   "cell_type": "code",
   "execution_count": 4,
   "metadata": {},
   "outputs": [
    {
     "name": "stdout",
     "output_type": "stream",
     "text": [
      "Le tableau trié est:\n",
      "1\n",
      "1\n",
      "1\n",
      "1\n",
      "2\n",
      "5\n",
      "5\n",
      "80\n"
     ]
    }
   ],
   "source": [
    "def tri_selection(t):\n",
    "   for i in range(len(t)):# len(t) fois de une affectation et un boucle fe \n",
    "       min = i #1 aff n fois\n",
    "       for j in range(i+1, len(t)):#le nombre de fois d'excution de ces deux \n",
    "                                     #opération est len(t)-1 \n",
    "           if t[min] > t[j]: #une opération \n",
    "               min = j# une affectation \n",
    "                \n",
    "       aux = t[i]# 1 aff\n",
    "       t[i] = t[min]#1 aff\n",
    "       tab[min] = aux#1 aff\n",
    "   return t\n",
    "###############\n",
    "\n",
    "t= [10, 200, 15, 1, 2, 9, 5, 80]\n",
    " \n",
    "tri_selection(t)\n",
    " \n",
    "print (\"Le tableau trié est:\")\n",
    "for i in range(len(t)):\n",
    "    print (\"%d\" %t[i])\n",
    " "
   ]
  },
  {
   "cell_type": "markdown",
   "metadata": {},
   "source": [
    "<h3><p style=\"color:red;\">Tri à bulle :</p></h3>\n",
    "<p>L’algorithme de tri à bulles est connu comme l’algorithme de tri le plus simple.\n",
    "Dans l’algorithme de tri à bulle, le tableau est parcouru du premier au dernier élément. Ici, l’élément courant est comparé à l’élément suivant. Si l’élément en cours est supérieur à l’élément suivant, il est échangé. Voici l'algorithme en python:</p>"
   ]
  },
  {
   "cell_type": "code",
   "execution_count": 5,
   "metadata": {},
   "outputs": [
    {
     "name": "stdout",
     "output_type": "stream",
     "text": [
      "Le tableau trié est:\n",
      "2\n",
      "15\n",
      "22\n",
      "32\n",
      "63\n",
      "70\n",
      "74\n",
      "98\n"
     ]
    }
   ],
   "source": [
    " def tri_bulle(t):\n",
    "    n = len(t)\n",
    "    for i in range(n):\n",
    "        for j in range(0, n-i-1):\n",
    "            if t[j] > t[j+1] :\n",
    "                t[j], t[j+1] = t[j+1], t[j]\n",
    "                \n",
    "t= [10, 200, 15, 1, 2, 9, 5, 80]\n",
    " \n",
    "tri_bulle(t)\n",
    " \n",
    "print (\"Le tableau trié est:\")\n",
    "for i in range(len(t)):\n",
    "    print (\"%d\" %t[i])"
   ]
  },
  {
   "cell_type": "markdown",
   "metadata": {},
   "source": [
    "<h3><p style=\"color:red;\">Tri par insertion :</p></h3>\n",
    "<p>L’algorithme du tri par insertion n’est utile que pour les petits éléments, car elle nécessite plus de temps pour trier un grand nombre d’éléments. Voici l'algorithme  :</p>"
   ]
  },
  {
   "cell_type": "code",
   "execution_count": 8,
   "metadata": {},
   "outputs": [
    {
     "name": "stdout",
     "output_type": "stream",
     "text": [
      "Le tableau trié est:\n",
      " 1\n",
      " 2\n",
      " 5\n",
      " 9\n",
      " 10\n",
      " 15\n",
      " 80\n",
      " 200\n"
     ]
    }
   ],
   "source": [
    "def tri_insertion(t): \n",
    "    for i in range(1, len(t)): 4/5\n",
    "        k = t[i] 200/15/1/2\n",
    "        j = i-1 \n",
    "        while j >= 0 and k < t[j] : \n",
    "                t[j + 1] = t[j] \n",
    "                j -= 1\n",
    "        t[j + 1] = k\n",
    "##############################\n",
    "t= [10, 200, 15, 1, 2, 9, 5, 80]\n",
    "tri_insertion(t) \n",
    "print (\"Le tableau trié est:\")\n",
    "for i in range(len(t)): \n",
    "    print (\"% d\" % t[i])"
   ]
  },
  {
   "cell_type": "markdown",
   "metadata": {},
   "source": [
    "<h3><p style=\"color:blue;\">Conclusion</p></h3>\n",
    "<p> Le tri par sélection/inserction/bulle fonctionne mieux avec un petit nombre d’éléments.  La complexité d’exécution de c'est algorithme dans le pire des cas est o(n^2) donc si il prend beaucoup de temps avec les tableau de grand taille</p>"
   ]
  },
  {
   "cell_type": "markdown",
   "metadata": {},
   "source": [
    "<h3><p style=\"color:red;\">Tri par fusion :</p></h3>\n",
    "<p>Le tri fusion se base sur le principe diviser pour régner.</p>\n",
    "\n",
    "<ul><li>Si le tableau a une seule case, alors il est considéré comme trié.</li>\n",
    "<li>Sinon, on découpe le tableau en deux parties de même taille (à une case près, si le nombre d’éléments du tableau est impair) et on trie chacune des deux parties.</li>\n",
    "    <li>On fusionne les deux parties triées.</li>"
   ]
  },
  {
   "cell_type": "code",
   "execution_count": 40,
   "metadata": {},
   "outputs": [
    {
     "name": "stdout",
     "output_type": "stream",
     "text": [
      "diviser  [10, 200, 15, 1, 2, 9, 5, 80]\n",
      "diviser  [10, 200, 15, 1]\n",
      "diviser  [10, 200]\n",
      "diviser  [10]\n",
      "diviser  [200]\n",
      "régner  [10]\n",
      "régner  [10, 200]\n",
      "diviser  [15, 1]\n",
      "diviser  [15]\n",
      "diviser  [1]\n",
      "régner  [1]\n",
      "régner  [1, 15]\n",
      "régner  [1]\n",
      "régner  [1, 10]\n",
      "régner  [1, 10, 15]\n",
      "régner  [1, 10, 15, 200]\n",
      "diviser  [2, 9, 5, 80]\n",
      "diviser  [2, 9]\n",
      "diviser  [2]\n",
      "diviser  [9]\n",
      "régner  [2]\n",
      "régner  [2, 9]\n",
      "diviser  [5, 80]\n",
      "diviser  [5]\n",
      "diviser  [80]\n",
      "régner  [5]\n",
      "régner  [5, 80]\n",
      "régner  [2]\n",
      "régner  [2, 5]\n",
      "régner  [2, 5, 9]\n",
      "régner  [2, 5, 9, 80]\n",
      "régner  [1]\n",
      "régner  [1, 2]\n",
      "régner  [1, 2, 5]\n",
      "régner  [1, 2, 5, 9]\n",
      "régner  [1, 2, 5, 9, 10]\n",
      "régner  [1, 2, 5, 9, 10, 15]\n",
      "régner  [1, 2, 5, 9, 10, 15, 80]\n",
      "régner  [1, 2, 5, 9, 10, 15, 80, 200]\n",
      "[1, 2, 5, 9, 10, 15, 80, 200]\n"
     ]
    }
   ],
   "source": [
    "def merge_sort(array):\n",
    "  \n",
    "    print(\"diviser \",array)\n",
    "    if len(array) < 2:\n",
    "        return array\n",
    "\n",
    "    midpoint = len(array) // 2\n",
    "    \n",
    "    return merge(\n",
    "        left=merge_sort(array[:midpoint]),\n",
    "        right=merge_sort(array[midpoint:]))\n",
    "\n",
    "def merge(left, right):\n",
    "    \n",
    "    if len(left) == 0:\n",
    "        return right\n",
    "\n",
    "    if len(right) == 0:\n",
    "        return left\n",
    "\n",
    "    result = []\n",
    "    index_left = index_right = 0\n",
    "\n",
    "\n",
    "    while len(result) < len(left) + len(right):\n",
    "        \n",
    "        if left[index_left] <= right[index_right]:\n",
    "            result.append(left[index_left])\n",
    "            index_left += 1\n",
    "            print(\"régner \",result)\n",
    "        else:\n",
    "            result.append(right[index_right])\n",
    "            index_right += 1\n",
    "            print(\"régner \",result)\n",
    "\n",
    "        if index_right == len(right):\n",
    "            result += left[index_left:]\n",
    "            print(\"régner \",result)\n",
    "            break\n",
    "\n",
    "        if index_left == len(left):\n",
    "            result += right[index_right:]\n",
    "            print(\"régner \",result)\n",
    "            break\n",
    "        \n",
    "    return result\n",
    "list =[10, 200, 15, 1, 2, 9, 5, 80]\n",
    "\n",
    "fin=merge_sort(list)\n",
    "print(fin)"
   ]
  },
  {
   "cell_type": "markdown",
   "metadata": {},
   "source": [
    "\n",
    "<h3><p style=\"color:blue;\">Pour analyser la complexité du tri par fusion, vous pouvez examiner ses deux étapes séparément: :</p></h3>\n",
    "<ul>\n",
    "<li>merge() : a un temps d'exécution linéaire. Il reçoit deux tableaux dont la longueur combinée est au plus n (la longueur du tableau d'entrée d'origine), et il combine les deux tableaux en regardant chaque élément au plus une fois. Cela conduit à une complexité d'exécution de O (n) .</li>\n",
    "\n",
    "<li>La deuxième étape divise le tableau d'entrée de manière récursive et appelle merge()chaque moitié. Puisque le tableau est divisé par deux jusqu'à ce qu'un seul élément reste, le nombre total d'opérations de réduction de moitié effectuées par cette fonction est log 2 n . Puisqu'il merge()est appelé pour chaque moitié, nous obtenons un temps d'exécution total de O (n log 2 n) .</li>"
   ]
  },
  {
   "cell_type": "markdown",
   "metadata": {},
   "source": [
    "\n",
    "<h3><p style=\"color:red;\">Tri rapide :</p></h3>\n",
    "<p>   Le principe de ce tri est d’ordonner le vecteur v[0..n] en cherchant dans celui-ci une clé pivot autour de laquelle réorganiser ses éléments. Il est souhaitable que le pivot soit aussi proche que possible de la clé relative à l’enregistrement central du vecteur, afin qu’il y ait à peu près autant d’éléments le précédant que le suivant, soit environ la moitié des éléments du tableau.</p>\n",
    "\n",
    "####  Le choix du pivot est déterminant pour l'efficacité de ce tri. Plusieurs options sont possibles :\n",
    "<ul>\n",
    "<li>Choisir le premier élément du tableau</li>\n",
    "<li>Choisir le dernier élément du tableau</li>\n",
    "<li>Choisir un élément au hasard</li>\n",
    "<li>Choisir l'élément au milieu du tableau</li>\n",
    "<li>Trouver le pivot optimal en recherchant la médiane</li>\n",
    "    </ul>"
   ]
  },
  {
   "cell_type": "code",
   "execution_count": 43,
   "metadata": {},
   "outputs": [
    {
     "name": "stdout",
     "output_type": "stream",
     "text": [
      "Le tableau trié est:\n",
      "1\n",
      "2\n",
      "5\n",
      "9\n",
      "10\n",
      "15\n",
      "80\n",
      "200\n"
     ]
    }
   ],
   "source": [
    "def partition(arr, low, high):\n",
    "    i = (low-1)        \n",
    "    pivot = arr[high]     \n",
    " \n",
    "    for j in range(low, high):\n",
    "        if arr[j] <= pivot:\n",
    "            i = i+1\n",
    "            arr[i], arr[j] = arr[j], arr[i]\n",
    " \n",
    "    arr[i+1], arr[high] = arr[high], arr[i+1]\n",
    "    return (i+1)\n",
    "\n",
    "def quickSort(arr, low, high):\n",
    "    if len(arr) == 1:\n",
    "        return arr\n",
    "    if low < high:\n",
    " \n",
    "        pi = partition(arr, low, high)\n",
    "\n",
    "        quickSort(arr, low, pi-1)\n",
    "        quickSort(arr, pi+1, high)\n",
    " \n",
    " \n",
    "#########PP##########\n",
    "list =[10, 200, 15, 1, 2, 9, 5, 80]\n",
    "n = len(list)\n",
    "quickSort(list, 0, n-1)\n",
    "print (\"Le tableau trié est:\")\n",
    "for i in range(n):\n",
    "    print(\"%d\" % list[i]),\n",
    " "
   ]
  },
  {
   "cell_type": "markdown",
   "metadata": {},
   "source": [
    "\n",
    "<h3><p style=\"color:blue;\">Mesure de la complexité</p></h3>\n",
    "<p>Avec le tri rapide, le pire des cas se produit lorsque le processus de partition sélectionne toujours l'élément le plus grand ou le plus petit commeou le tableau est déjà trié par ordre croissant ou décroissant{O(n^2 )}.\n",
    "Meilleur cas: le meilleur cas se produit lorsque le processus de partition sélectionne toujours l'élément du milieu comme pivot O (n log n).\n",
    "</p>"
   ]
  },
  {
   "cell_type": "code",
   "execution_count": null,
   "metadata": {},
   "outputs": [],
   "source": []
  }
 ],
 "metadata": {
  "kernelspec": {
   "display_name": "Python 3",
   "language": "python",
   "name": "python3"
  },
  "language_info": {
   "codemirror_mode": {
    "name": "ipython",
    "version": 3
   },
   "file_extension": ".py",
   "mimetype": "text/x-python",
   "name": "python",
   "nbconvert_exporter": "python",
   "pygments_lexer": "ipython3",
   "version": "3.7.1"
  }
 },
 "nbformat": 4,
 "nbformat_minor": 2
}
