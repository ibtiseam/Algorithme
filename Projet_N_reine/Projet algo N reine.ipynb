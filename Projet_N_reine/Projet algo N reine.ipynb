{
 "cells": [
  {
   "cell_type": "code",
   "execution_count": 7,
   "metadata": {},
   "outputs": [],
   "source": [
    "import numpy as np\n",
    "from tkinter import *\n",
    "import random\n",
    "import tkinter.ttk as ttk"
   ]
  },
  {
   "cell_type": "code",
   "execution_count": 7,
   "metadata": {},
   "outputs": [
    {
     "name": "stdout",
     "output_type": "stream",
     "text": [
      "N = 8\n"
     ]
    }
   ],
   "source": [
    "global N \n",
    "S=input(\"N = \")\n",
    "N=int(S)\n",
    "global M\n",
    "\n",
    "def affichage(matrice): \n",
    "    for i in range(N): \n",
    "        print(\"____\"*N)\n",
    "        for j in range(N): \n",
    "            print (matrice[i][j], \"|\",end = \" \") \n",
    "        print()  "
   ]
  },
  {
   "cell_type": "code",
   "execution_count": 8,
   "metadata": {},
   "outputs": [],
   "source": [
    "def diag(echec,x,y):\n",
    "    arr=[]\n",
    "    \n",
    "    for i in range(N) :\n",
    "        \n",
    "        if i != x : \n",
    "            if((y-abs(x-i))>=0) :\n",
    "                \n",
    "                arr.append(echec[i][y-abs(x-i)])\n",
    "                \n",
    "            if((y+abs(x-i))<N):\n",
    "                \n",
    "                arr.append(echec[i][y+abs(x-i)])\n",
    "    return arr "
   ]
  },
  {
   "cell_type": "code",
   "execution_count": 9,
   "metadata": {},
   "outputs": [],
   "source": [
    "def placer_reine(matrice, l, c): \n",
    "  \n",
    "    \n",
    "    for i in range(c,N): \n",
    "        if matrice[l][i] == 1: \n",
    "            return False\n",
    "        \n",
    "      \n",
    "    arr=diag(matrice, l, c) \n",
    "    n=len(arr)\n",
    "    \n",
    "    for i in range(n) : \n",
    "        if arr[i]==1 :\n",
    "            return False\n",
    "    matrice[l][c] = 1\n",
    "    \n",
    "    return True"
   ]
  },
  {
   "cell_type": "code",
   "execution_count": 5,
   "metadata": {},
   "outputs": [],
   "source": [
    "def placer_toutes_reines(matrice, n): \n",
    "    \n",
    "    if n < 0: \n",
    "        return True\n",
    "\n",
    "    for i in range(N): \n",
    "       \n",
    "        if placer_reine(matrice, i, n): \n",
    "            if  placer_toutes_reines(matrice, n-1)==True:\n",
    "                return True\n",
    "            matrice[i][n] = 0\n",
    "    return False"
   ]
  },
  {
   "cell_type": "code",
   "execution_count": 6,
   "metadata": {},
   "outputs": [
    {
     "name": "stdout",
     "output_type": "stream",
     "text": [
      "________________________________\n",
      "0 | 0 | 0 | 0 | 0 | 0 | 0 | 1 | \n",
      "________________________________\n",
      "0 | 1 | 0 | 0 | 0 | 0 | 0 | 0 | \n",
      "________________________________\n",
      "0 | 0 | 0 | 1 | 0 | 0 | 0 | 0 | \n",
      "________________________________\n",
      "1 | 0 | 0 | 0 | 0 | 0 | 0 | 0 | \n",
      "________________________________\n",
      "0 | 0 | 0 | 0 | 0 | 0 | 1 | 0 | \n",
      "________________________________\n",
      "0 | 0 | 0 | 0 | 1 | 0 | 0 | 0 | \n",
      "________________________________\n",
      "0 | 0 | 1 | 0 | 0 | 0 | 0 | 0 | \n",
      "________________________________\n",
      "0 | 0 | 0 | 0 | 0 | 1 | 0 | 0 | \n"
     ]
    },
    {
     "data": {
      "text/plain": [
       "True"
      ]
     },
     "execution_count": 6,
     "metadata": {},
     "output_type": "execute_result"
    }
   ],
   "source": [
    "def programe_principale(): \n",
    "    \n",
    "    matrice = np.zeros( (N, N) , dtype=int)\n",
    "    if placer_toutes_reines(matrice,N-1) == False: \n",
    "        print (\"Pas des solution\") \n",
    "        return False\n",
    "    \n",
    "    affichage(matrice) \n",
    "    return True\n",
    "\n",
    "programe_principale() "
   ]
  },
  {
   "cell_type": "code",
   "execution_count": 10,
   "metadata": {},
   "outputs": [],
   "source": [
    "matrice = np.zeros( (N, N) , dtype=int)\n",
    "placer_toutes_reines(matrice,N-1)\n",
    "root = Tk()\n",
    "\n",
    "text = [[None]*N]*N\n",
    "buttons = [[None]*N]*N\n",
    "\n",
    "#Create style object\n",
    "sto = ttk.Style()\n",
    "\n",
    "#configure style\n",
    "sto.configure('TButton', font=('calibri', 10, 'bold', 'underline'),foreground='Green')\n",
    "\n",
    "for i in range(N):\n",
    "    for j in range(N):\n",
    "        text[i][j] = StringVar()\n",
    "        text[i][j].set('(%d)' % matrice[i][j])\n",
    "        buttons[i][j] = Button(root, command = None)\n",
    "        if matrice[i][j] == 1 :\n",
    "            buttons[i][j].config(textvariable = text[i][j], width =4, height = 2 ,background='light blue', border=10)\n",
    "        else:\n",
    "            buttons[i][j].config(textvariable = text[i][j], width = 4, height = 2) \n",
    "        buttons[i][j].grid(row = i, column = j)\n",
    "\n",
    "root.mainloop() "
   ]
  },
  {
   "cell_type": "code",
   "execution_count": 8,
   "metadata": {},
   "outputs": [
    {
     "name": "stdout",
     "output_type": "stream",
     "text": [
      "The watermark extension is already loaded. To reload it, use:\n",
      "  %reload_ext watermark\n"
     ]
    }
   ],
   "source": [
    "import tkinter\n",
    "%load_ext watermark"
   ]
  },
  {
   "cell_type": "code",
   "execution_count": 9,
   "metadata": {},
   "outputs": [
    {
     "name": "stdout",
     "output_type": "stream",
     "text": [
      "tkinter.ttk 0.3.1\n",
      "re          2.2.1\n",
      "numpy       1.17.4\n",
      "\n"
     ]
    }
   ],
   "source": [
    "%watermark --iversions"
   ]
  },
  {
   "cell_type": "code",
   "execution_count": null,
   "metadata": {},
   "outputs": [],
   "source": []
  }
 ],
 "metadata": {
  "kernelspec": {
   "display_name": "Python 3",
   "language": "python",
   "name": "python3"
  },
  "language_info": {
   "codemirror_mode": {
    "name": "ipython",
    "version": 3
   },
   "file_extension": ".py",
   "mimetype": "text/x-python",
   "name": "python",
   "nbconvert_exporter": "python",
   "pygments_lexer": "ipython3",
   "version": "3.7.1"
  }
 },
 "nbformat": 4,
 "nbformat_minor": 2
}
